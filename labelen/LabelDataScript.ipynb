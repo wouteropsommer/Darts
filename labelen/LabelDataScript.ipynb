{
 "cells": [
  {
   "cell_type": "code",
   "execution_count": null,
   "metadata": {
    "scrolled": false
   },
   "outputs": [
    {
     "data": {
      "text/plain": [
       "<Figure size 640x480 with 1 Axes>"
      ]
     },
     "metadata": {},
     "output_type": "display_data"
    },
    {
     "name": "stdout",
     "output_type": "stream",
     "text": [
      "img numero: 20200301_110230output 2.png\n",
      "hoeveel enkels:\n",
      "9\n",
      "hoeveel dubbels:\n",
      "0\n",
      "hoeveel trippels:\n",
      "0\n"
     ]
    },
    {
     "data": {
      "text/plain": [
       "<Figure size 640x480 with 1 Axes>"
      ]
     },
     "metadata": {},
     "output_type": "display_data"
    },
    {
     "name": "stdout",
     "output_type": "stream",
     "text": [
      "img numero: 20200301_110230output 3.png\n",
      "hoeveel enkels:\n"
     ]
    }
   ],
   "source": [
    "import matplotlib.pyplot as plt\n",
    "import os\n",
    "import cv2\n",
    "import shutil\n",
    "import matplotlib.image as mpimg\n",
    "\n",
    "plt.ion()\n",
    "\n",
    "#vergeet de / op het einde niet\n",
    "TARGETFOLDER = \"C:/Users/WOOBW65/Documents/bap/labelen/pizzaSet1/tolabel/test/\"\n",
    "DESTINATIONFOLDER = 'C:/Users/WOOBW65/Documents/bap/labelen/pizzaSet1/labeled/'\n",
    "\n",
    "\n",
    "path = os.path.join(TARGETFOLDER)\n",
    "os.chdir(TARGETFOLDER)\n",
    "                       \n",
    "for img in os.listdir(path):\n",
    "    \n",
    "    imgtoshow = mpimg.imread(TARGETFOLDER + img)\n",
    "    \n",
    "    imgplot = plt.imshow(imgtoshow)\n",
    "    \n",
    "    plt.pause(0.05)   \n",
    "    \n",
    "    print(\"img numero: \" + img)\n",
    "    \n",
    "    print(\"hoeveel enkels:\")\n",
    "    \n",
    "    single = input()\n",
    "    \n",
    "    print(\"hoeveel dubbels:\")\n",
    "    \n",
    "    double = input()\n",
    "    \n",
    "    print(\"hoeveel trippels:\")\n",
    "    \n",
    "    triple = input()\n",
    "    \n",
    "    newName = \" \".join([single, double, triple])\n",
    "    oldName = img[:-4]\n",
    "    \n",
    "    if single == '9':\n",
    "        shutil.move(img, DESTINATIONFOLDER + \"aaaconfuse/\" + oldName + \".png\")\n",
    "    else:\n",
    "        print(DESTINATIONFOLDER + \"oldname\" + oldName + \" \"+ newName + \".png\")\n",
    "        shutil.move(img, DESTINATIONFOLDER + '/' + \"oldname\" + oldName + \" \"+ newName + \".png\") \n",
    "    \n",
    "    "
   ]
  },
  {
   "cell_type": "code",
   "execution_count": null,
   "metadata": {},
   "outputs": [],
   "source": []
  }
 ],
 "metadata": {
  "kernelspec": {
   "display_name": "Python 3",
   "language": "python",
   "name": "python3"
  },
  "language_info": {
   "codemirror_mode": {
    "name": "ipython",
    "version": 3
   },
   "file_extension": ".py",
   "mimetype": "text/x-python",
   "name": "python",
   "nbconvert_exporter": "python",
   "pygments_lexer": "ipython3",
   "version": "3.7.4"
  }
 },
 "nbformat": 4,
 "nbformat_minor": 2
}
