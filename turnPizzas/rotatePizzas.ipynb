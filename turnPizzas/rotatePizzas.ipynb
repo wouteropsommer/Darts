{
 "cells": [
  {
   "cell_type": "code",
   "execution_count": 1,
   "metadata": {},
   "outputs": [],
   "source": [
    "import os\n",
    "from PIL import Image\n",
    "import webp\n",
    "\n",
    "TARGETFOLDER = \"C:/Users/WOOBW65/Documents/bap/pizzacutter/officialPizzas/\"\n",
    "path = os.path.join(TARGETFOLDER)\n",
    "\n",
    "os.chdir('C:/Users/WOOBW65/Documents/bap/pizzacutter/officialPizzas/')\n",
    "\n",
    "for img in os.listdir(path):\n",
    "    split = img.split()\n",
    "    degrees = split[1][:-4]\n",
    "    \n",
    "    unrotated  = Image.open(TARGETFOLDER + img)\n",
    "    \n",
    "    rotateamount = (int(degrees) * 18)\n",
    "    rotated     = unrotated.rotate(rotateamount)\n",
    "    \n",
    "    rotated.save(\"C:/Users/WOOBW65/Documents/bap/turnPizzas/turned/\" + img,\"PNG\")"
   ]
  },
  {
   "cell_type": "code",
   "execution_count": null,
   "metadata": {},
   "outputs": [],
   "source": []
  }
 ],
 "metadata": {
  "kernelspec": {
   "display_name": "Python 3",
   "language": "python",
   "name": "python3"
  },
  "language_info": {
   "codemirror_mode": {
    "name": "ipython",
    "version": 3
   },
   "file_extension": ".py",
   "mimetype": "text/x-python",
   "name": "python",
   "nbconvert_exporter": "python",
   "pygments_lexer": "ipython3",
   "version": "3.7.4"
  }
 },
 "nbformat": 4,
 "nbformat_minor": 2
}
